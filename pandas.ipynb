{
 "cells": [
  {
   "cell_type": "markdown",
   "metadata": {},
   "source": [
    "### Understanding DataFrames\n",
    "##### A DataFrame is a two-dimensional labeled data structure with columns that can hold different data types. It's a fundamental data structure in Pandas, often used to represent tabular data."
   ]
  },
  {
   "cell_type": "code",
   "execution_count": 23,
   "metadata": {},
   "outputs": [
    {
     "name": "stdout",
     "output_type": "stream",
     "text": [
      "      Name  Age         City  Salary\n",
      "0    Alice   25     New York   50000\n",
      "1      Bob   30  Los Angeles   60000\n",
      "2  Charlie   28      Chicago   55000\n",
      "3    David   22        Miami   45000\n",
      "4    Emily   27       Dallas   65000\n"
     ]
    }
   ],
   "source": [
    "import pandas as pd\n",
    "\n",
    "# Create a dictionary of data\n",
    "data = {\n",
    "    'Name': ['Alice', 'Bob', 'Charlie', 'David', 'Emily'],\n",
    "    'Age': [25, 30, 28, 22, 27],\n",
    "    'City': ['New York', 'Los Angeles', 'Chicago', 'Miami', 'Dallas'],\n",
    "    'Salary': [50000, 60000, 55000, 45000, 65000]\n",
    "}\n",
    "\n",
    "# Create a DataFrame\n",
    "df = pd.DataFrame(data)\n",
    "\n",
    "print(df)"
   ]
  },
  {
   "cell_type": "code",
   "execution_count": 24,
   "metadata": {},
   "outputs": [
    {
     "name": "stdout",
     "output_type": "stream",
     "text": [
      "      Name  Age         City  Salary\n",
      "0    Alice   25     New York   50000\n",
      "1      Bob   30  Los Angeles   60000\n",
      "2  Charlie   28      Chicago   55000\n",
      "3    David   22        Miami   45000\n",
      "4    Emily   27       Dallas   65000\n"
     ]
    }
   ],
   "source": [
    "# From a List of Lists\n",
    "data = [\n",
    "    ['Alice', 25, 'New York', 50000],\n",
    "    ['Bob', 30, 'Los Angeles', 60000],\n",
    "    ['Charlie', 28, 'Chicago', 55000],\n",
    "    ['David', 22, 'Miami', 45000],\n",
    "    ['Emily', 27, 'Dallas', 65000]\n",
    "]\n",
    "\n",
    "df = pd.DataFrame(data, columns=['Name', 'Age', 'City', 'Salary'])\n",
    "\n",
    "print(df)"
   ]
  },
  {
   "cell_type": "code",
   "execution_count": 25,
   "metadata": {},
   "outputs": [
    {
     "name": "stdout",
     "output_type": "stream",
     "text": [
      "0      Alice\n",
      "1        Bob\n",
      "2    Charlie\n",
      "3      David\n",
      "4      Emily\n",
      "Name: Name, dtype: object\n"
     ]
    }
   ],
   "source": [
    "print(df['Name'])  # Access the 'Name' column"
   ]
  },
  {
   "cell_type": "code",
   "execution_count": 26,
   "metadata": {},
   "outputs": [
    {
     "name": "stdout",
     "output_type": "stream",
     "text": [
      "Name         Alice\n",
      "Age             25\n",
      "City      New York\n",
      "Salary       50000\n",
      "Name: 0, dtype: object\n"
     ]
    }
   ],
   "source": [
    "print(df.iloc[0])  # Access the first row"
   ]
  },
  {
   "cell_type": "code",
   "execution_count": 27,
   "metadata": {},
   "outputs": [
    {
     "name": "stdout",
     "output_type": "stream",
     "text": [
      "Alice\n"
     ]
    }
   ],
   "source": [
    "print(df.loc[0, 'Name'])  # Access the value at the first row, 'Name' column"
   ]
  },
  {
   "cell_type": "code",
   "execution_count": 28,
   "metadata": {},
   "outputs": [
    {
     "data": {
      "text/plain": [
       "0    25\n",
       "1    30\n",
       "2    28\n",
       "3    22\n",
       "4    27\n",
       "Name: Age, dtype: int64"
      ]
     },
     "execution_count": 28,
     "metadata": {},
     "output_type": "execute_result"
    }
   ],
   "source": [
    "df['Age']"
   ]
  },
  {
   "cell_type": "code",
   "execution_count": 29,
   "metadata": {},
   "outputs": [
    {
     "name": "stdout",
     "output_type": "stream",
     "text": [
      "      Name  Age         City  Salary\n",
      "1      Bob   30  Los Angeles   60000\n",
      "2  Charlie   28      Chicago   55000\n",
      "4    Emily   27       Dallas   65000\n"
     ]
    }
   ],
   "source": [
    "# Filter rows where age is greater than 25\n",
    "filtered_df = df.loc[df['Age'] > 25]\n",
    "print(filtered_df)"
   ]
  },
  {
   "cell_type": "code",
   "execution_count": 30,
   "metadata": {},
   "outputs": [
    {
     "name": "stdout",
     "output_type": "stream",
     "text": [
      "      Name  Age         City  Salary\n",
      "3    David   22        Miami   45000\n",
      "0    Alice   25     New York   50000\n",
      "4    Emily   27       Dallas   65000\n",
      "2  Charlie   28      Chicago   55000\n",
      "1      Bob   30  Los Angeles   60000\n"
     ]
    }
   ],
   "source": [
    "# Sort by age in ascending order\n",
    "sorted_df = df.sort_values('Age')\n",
    "print(sorted_df)"
   ]
  },
  {
   "cell_type": "code",
   "execution_count": 31,
   "metadata": {},
   "outputs": [
    {
     "name": "stdout",
     "output_type": "stream",
     "text": [
      "City\n",
      "Chicago        55000.0\n",
      "Dallas         65000.0\n",
      "Los Angeles    60000.0\n",
      "Miami          45000.0\n",
      "New York       50000.0\n",
      "Name: Salary, dtype: float64\n"
     ]
    }
   ],
   "source": [
    "# Group by city and calculate the average salary\n",
    "grouped_df = df.groupby('City')['Salary'].mean()\n",
    "print(grouped_df)"
   ]
  },
  {
   "cell_type": "code",
   "execution_count": 32,
   "metadata": {},
   "outputs": [
    {
     "name": "stdout",
     "output_type": "stream",
     "text": [
      "            Age       Salary\n",
      "count   5.00000      5.00000\n",
      "mean   26.40000  55000.00000\n",
      "std     3.04959   7905.69415\n",
      "min    22.00000  45000.00000\n",
      "25%    25.00000  50000.00000\n",
      "50%    27.00000  55000.00000\n",
      "75%    28.00000  60000.00000\n",
      "max    30.00000  65000.00000\n"
     ]
    }
   ],
   "source": [
    "print(df.describe())  # Calculate summary statistics"
   ]
  },
  {
   "cell_type": "code",
   "execution_count": 43,
   "metadata": {},
   "outputs": [
    {
     "name": "stdout",
     "output_type": "stream",
     "text": [
      "     A   B   C   D\n",
      "K0  A0  B0  C0  D0\n",
      "K1  A1  B1  C1  D1\n",
      "K2  A2  B2  C2  D2\n"
     ]
    }
   ],
   "source": [
    "import pandas as pd\n",
    "\n",
    "# Create two DataFrames\n",
    "df1 = pd.DataFrame({'A': ['A0', 'A1', 'A2'],\n",
    "                     'B': ['B0', 'B1', 'B2']},\n",
    "                      index=['K0', 'K1', 'K2'])\n",
    "\n",
    "df2 = pd.DataFrame({'C': ['C0', 'C1', 'C2'],\n",
    "                     'D': ['D0', 'D1', 'D2']},\n",
    "                      index=['K0', 'K1', 'K2'])\n",
    "\n",
    "# Merge the DataFrames (inner join)\n",
    "merged_df = pd.merge(df1, df2, left_index=True, right_index=True)\n",
    "print(merged_df)\n",
    "\n",
    "\n",
    "# Clean your data: Ensure data consistency and accuracy before merging.\n",
    "# Use informative column names: Clear column names can help avoid confusion.\n",
    "# Explore different merge types: Experiment with different merge types to achieve the desired outcome.\n",
    "# Visualize the data: Use tools like Pandas Profiling to understand the data better."
   ]
  },
  {
   "cell_type": "code",
   "execution_count": 44,
   "metadata": {},
   "outputs": [
    {
     "name": "stdout",
     "output_type": "stream",
     "text": [
      "     A   B   C   D\n",
      "K0  A0  B0  C0  D0\n",
      "K1  A1  B1  C1  D1\n",
      "K2  A2  B2  C2  D2\n"
     ]
    }
   ],
   "source": [
    "# Join the DataFrames\n",
    "joined_df = df1.join(df2)\n",
    "print(joined_df)"
   ]
  },
  {
   "cell_type": "code",
   "execution_count": 45,
   "metadata": {},
   "outputs": [
    {
     "name": "stdout",
     "output_type": "stream",
     "text": [
      "            Sales\n",
      "2023-01-31    550\n",
      "            Sales  Rolling_Mean\n",
      "2023-01-01     10           NaN\n",
      "2023-01-02     20           NaN\n",
      "2023-01-03     30          20.0\n",
      "2023-01-04     40          30.0\n",
      "2023-01-05     50          40.0\n",
      "2023-01-06     60          50.0\n",
      "2023-01-07     70          60.0\n",
      "2023-01-08     80          70.0\n",
      "2023-01-09     90          80.0\n",
      "2023-01-10    100          90.0\n"
     ]
    }
   ],
   "source": [
    "# Create a DatetimeIndex\n",
    "date_index = pd.date_range('2023-01-01', periods=10)\n",
    "\n",
    "# Create a DataFrame with DatetimeIndex\n",
    "df = pd.DataFrame({'Sales': [10, 20, 30, 40, 50, 60, 70, 80, 90, 100]}, index=date_index)\n",
    "\n",
    "# Resampling data\n",
    "resampled_df = df.resample('M').sum()\n",
    "print(resampled_df)\n",
    "\n",
    "# Time-based calculations\n",
    "df['Rolling_Mean'] = df['Sales'].rolling(window=3).mean()\n",
    "print(df)"
   ]
  },
  {
   "cell_type": "code",
   "execution_count": null,
   "metadata": {},
   "outputs": [],
   "source": []
  }
 ],
 "metadata": {
  "kernelspec": {
   "display_name": "bionerd",
   "language": "python",
   "name": "python3"
  },
  "language_info": {
   "codemirror_mode": {
    "name": "ipython",
    "version": 3
   },
   "file_extension": ".py",
   "mimetype": "text/x-python",
   "name": "python",
   "nbconvert_exporter": "python",
   "pygments_lexer": "ipython3",
   "version": "3.11.9"
  }
 },
 "nbformat": 4,
 "nbformat_minor": 2
}
